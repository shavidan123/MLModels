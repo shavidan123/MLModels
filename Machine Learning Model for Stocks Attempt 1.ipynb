{
 "cells": [
  {
   "cell_type": "code",
   "execution_count": 4,
   "id": "0391b1c3",
   "metadata": {},
   "outputs": [],
   "source": [
    "import pandas as pd\n",
    "import numpy as np\n",
    "import talib\n",
    "import csv\n",
    "from pandas_datareader import data\n",
    "from datascience import *\n",
    "import matplotlib.pyplot as plt\n",
    "from sklearn.tree import DecisionTreeRegressor\n",
    "from sklearn import model_selection\n",
    "from sklearn.model_selection import train_test_split\n",
    "%matplotlib inline"
   ]
  },
  {
   "cell_type": "code",
   "execution_count": 5,
   "id": "a4117941",
   "metadata": {},
   "outputs": [],
   "source": [
    "amzn = pd.read_csv(\"AMZN12822.csv\")"
   ]
  },
  {
   "cell_type": "code",
   "execution_count": 6,
   "id": "678c6829",
   "metadata": {},
   "outputs": [],
   "source": [
    "amzn['EMA30'] = talib.EMA(amzn['Close'].values, timeperiod=30)\n",
    "amzn['UPPERBAND'], amzn['MIDDLEBAND'], amzn['LOWERBAND'] = talib.BBANDS(amzn['Close'].values, timeperiod=20, nbdevup=2, nbdevdn=2, matype=0)"
   ]
  },
  {
   "cell_type": "code",
   "execution_count": 4,
   "id": "dcd2c966",
   "metadata": {},
   "outputs": [],
   "source": [
    "amzn['NextDayPrice'] = amzn['Close'].shift(-1)"
   ]
  },
  {
   "cell_type": "code",
   "execution_count": 5,
   "id": "4a9b074a",
   "metadata": {},
   "outputs": [
    {
     "name": "stdout",
     "output_type": "stream",
     "text": [
      "        Date         Open         High          Low        Close    Adj Close  \\\n",
      "49  20210412  3355.209961  3395.040039  3351.149902  3379.389893  3379.389893   \n",
      "50  20210413  3400.850098  3432.000000  3395.629883  3400.000000  3400.000000   \n",
      "51  20210414  3404.040039  3404.129883  3326.000000  3333.000000  3333.000000   \n",
      "52  20210415  3371.000000  3397.000000  3352.000000  3379.090088  3379.090088   \n",
      "53  20210416  3380.000000  3406.800049  3355.590088  3399.439941  3399.439941   \n",
      "\n",
      "       Volume        EMA50    UPPERBAND   MIDDLEBAND    LOWERBAND  \\\n",
      "49  3281800.0  3174.635986  3362.711955  3150.644006  2938.576057   \n",
      "50  3315800.0  3183.473791  3402.025531  3166.560010  2931.094488   \n",
      "51  3145200.0  3189.337564  3422.106155  3178.617004  2935.127854   \n",
      "52  3233600.0  3196.778839  3448.398591  3190.785010  2933.171429   \n",
      "53  3186000.0  3204.726333  3470.876032  3209.357507  2947.838982   \n",
      "\n",
      "    NextDayPrice  \n",
      "49   3400.000000  \n",
      "50   3333.000000  \n",
      "51   3379.090088  \n",
      "52   3399.439941  \n",
      "53   3372.010010  \n"
     ]
    }
   ],
   "source": [
    "amzn = amzn.replace(\"-\",\"\", regex=True)\n",
    "amzn_clean = amzn.copy()\n",
    "amzn_clean.dropna(inplace=True)\n",
    "print (amzn_clean.head())"
   ]
  },
  {
   "cell_type": "code",
   "execution_count": 6,
   "id": "7f9c034f",
   "metadata": {},
   "outputs": [
    {
     "name": "stdout",
     "output_type": "stream",
     "text": [
      "        Date         Open         High          Low        Close    Adj Close  \\\n",
      "49  20210412  3355.209961  3395.040039  3351.149902  3379.389893  3379.389893   \n",
      "50  20210413  3400.850098  3432.000000  3395.629883  3400.000000  3400.000000   \n",
      "51  20210414  3404.040039  3404.129883  3326.000000  3333.000000  3333.000000   \n",
      "52  20210415  3371.000000  3397.000000  3352.000000  3379.090088  3379.090088   \n",
      "53  20210416  3380.000000  3406.800049  3355.590088  3399.439941  3399.439941   \n",
      "\n",
      "       Volume        EMA50    UPPERBAND   MIDDLEBAND    LOWERBAND  \n",
      "49  3281800.0  3174.635986  3362.711955  3150.644006  2938.576057  \n",
      "50  3315800.0  3183.473791  3402.025531  3166.560010  2931.094488  \n",
      "51  3145200.0  3189.337564  3422.106155  3178.617004  2935.127854  \n",
      "52  3233600.0  3196.778839  3448.398591  3190.785010  2933.171429  \n",
      "53  3186000.0  3204.726333  3470.876032  3209.357507  2947.838982  \n"
     ]
    }
   ],
   "source": [
    "X_all = amzn_clean.iloc[:, amzn_clean.columns != 'NextDayPrice']  # feature values for all days\n",
    "y_all = amzn_clean['NextDayPrice']  # corresponding targets/labels\n",
    "X_all = X_all.replace(\"-\",\"\", regex=True)\n",
    "print (X_all.head()) \n",
    "\n",
    "#Splitting the data into training and testing sets using the given feature as the target\n",
    "X_train, X_test, y_train, y_test = train_test_split(X_all, y_all, test_size=0.30, random_state=42)"
   ]
  },
  {
   "cell_type": "code",
   "execution_count": 7,
   "id": "e5b30b47",
   "metadata": {},
   "outputs": [
    {
     "name": "stdout",
     "output_type": "stream",
     "text": [
      "Training set: 140 samples\n",
      "Test set: 61 samples\n"
     ]
    }
   ],
   "source": [
    " from sklearn.linear_model import LinearRegression\n",
    " \n",
    " \n",
    "#Create a decision tree regressor and fit it to the training set\n",
    " regressor = LinearRegression()\n",
    " \n",
    " regressor.fit(X_train,y_train)\n",
    " \n",
    " print (\"Training set: {} samples\".format(X_train.shape[0]))\n",
    " print (\"Test set: {} samples\".format(X_test.shape[0]))"
   ]
  },
  {
   "cell_type": "code",
   "execution_count": 8,
   "id": "4939fc42",
   "metadata": {},
   "outputs": [
    {
     "name": "stdout",
     "output_type": "stream",
     "text": [
      "Accuracy: 0.59 (+/- 0.16)\n",
      "MSE: 3809.7806\n"
     ]
    }
   ],
   "source": [
    "scores = model_selection.cross_val_score(regressor, X_test, y_test, cv=10)\n",
    "print (\"Accuracy: %0.2f (+/- %0.2f)\" % (scores.mean(), scores.std() / 2))    \n",
    "\n",
    "from sklearn.metrics import mean_squared_error\n",
    "\n",
    "mse = mean_squared_error(y_test, regressor.predict(X_test))\n",
    "print(\"MSE: %.4f\" % mse)"
   ]
  },
  {
   "cell_type": "code",
   "execution_count": 9,
   "id": "df57ea04",
   "metadata": {},
   "outputs": [
    {
     "name": "stdout",
     "output_type": "stream",
     "text": [
      "         Date         Open    High          Low        Close    Adj Close  \\\n",
      "249  20220125  2844.850098  2872.0  2762.899902  2799.719971  2799.719971   \n",
      "\n",
      "        Volume        EMA50    UPPERBAND   MIDDLEBAND  LOWERBAND  \n",
      "249  4541200.0  3294.735352  3570.556008  3212.779004   2855.002  \n"
     ]
    }
   ],
   "source": [
    "last_row = X_all[-1:]\n",
    "print(last_row)"
   ]
  },
  {
   "cell_type": "code",
   "execution_count": 10,
   "id": "40a8af01",
   "metadata": {},
   "outputs": [
    {
     "name": "stdout",
     "output_type": "stream",
     "text": [
      "[2724.6437718]\n"
     ]
    }
   ],
   "source": [
    "print(regressor.predict(last_row))"
   ]
  },
  {
   "cell_type": "code",
   "execution_count": null,
   "id": "c441f405",
   "metadata": {},
   "outputs": [],
   "source": []
  },
  {
   "cell_type": "code",
   "execution_count": null,
   "id": "703941ef",
   "metadata": {},
   "outputs": [],
   "source": []
  }
 ],
 "metadata": {
  "kernelspec": {
   "display_name": "Python 3",
   "language": "python",
   "name": "python3"
  },
  "language_info": {
   "codemirror_mode": {
    "name": "ipython",
    "version": 3
   },
   "file_extension": ".py",
   "mimetype": "text/x-python",
   "name": "python",
   "nbconvert_exporter": "python",
   "pygments_lexer": "ipython3",
   "version": "3.8.8"
  }
 },
 "nbformat": 4,
 "nbformat_minor": 5
}
